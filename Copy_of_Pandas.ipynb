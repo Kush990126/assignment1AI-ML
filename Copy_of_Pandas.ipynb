{
  "cells": [
    {
      "cell_type": "markdown",
      "metadata": {
        "id": "view-in-github",
        "colab_type": "text"
      },
      "source": [
        "<a href=\"https://colab.research.google.com/github/Kush990126/assignment1AI-ML/blob/main/Copy_of_Pandas.ipynb\" target=\"_parent\"><img src=\"https://colab.research.google.com/assets/colab-badge.svg\" alt=\"Open In Colab\"/></a>"
      ]
    },
    {
      "cell_type": "markdown",
      "metadata": {
        "id": "KfseUr-iR66u"
      },
      "source": [
        "### Data Exploration Exercises\n",
        "\n",
        "#### Task 1.1 - The goal of this exercise is to find the average age of celebrities who died February–July 2016\n",
        "\n",
        "<div>\n",
        "  <a href=\"https://colab.research.google.com/github/emharsha1812/CCE_Assignment/blob/main/Assignments/Pandas.ipynb\" target=\"_parent\">\n",
        "    <img src=\"https://colab.research.google.com/assets/colab-badge.svg\" alt=\"Open In Colab\"/>\n",
        "  </a>\n",
        "</div>\n",
        "\n",
        "1. Create a data frame from the file celebrity_deaths_2016.csv. For this exercise, we’ll use only two columns:\n",
        "–dateofdeath\n",
        "– age\n",
        "2. Create a new month column containing the month from the dateofdeath\n",
        "column.\n",
        "3. Make the month column the index of the data frame.\n",
        "4. Sort the data frame by the index.\n",
        "5. Clean all nonintegers from the age column.\n",
        "6. Turn the age column into an integer value.\n",
        "7. Find the average age of celebrities who died during that period"
      ]
    },
    {
      "cell_type": "code",
      "execution_count": null,
      "metadata": {
        "id": "r9a3LwHRR66z"
      },
      "outputs": [],
      "source": [
        "import pandas as pd\n",
        "import numpy as np\n",
        "\n",
        "# You are NOT required to change the code here\n",
        "# titanic_df=pd.read_csv('celebrity_deaths_2016.csv')\n",
        "titanic_df='https://raw.githubusercontent.com/emharsha1812/CCE_Assignment/main/dataset/celebrity_deaths_2016.csv'\n",
        "\n",
        "def calculate_average_age(df= titanic_df):\n",
        "    #TODO- Write your code here\n",
        "    '''Arguments -\n",
        "    titanic_df = The pandas dataframe that we loaded\n",
        "\n",
        "    Returns\n",
        "    int : average_age\n",
        "    '''\n",
        "     # Extract the 'age' column and calculate the average\n",
        "    average_age = df['age'].mean()\n",
        "\n",
        "    return average_age\n",
        "\n",
        "    # Calculate the average age\n",
        "    get_average_age_ans = calculate_average_age(df)\n",
        "    print(f\"The average age is: {get_average_age_ans}\")\n"
      ]
    },
    {
      "cell_type": "markdown",
      "metadata": {
        "id": "TXucVDL-R660"
      },
      "source": [
        "### Task 1.2 - The goal of this exercise is to group the data according to the below conditions\n",
        "1. Load the CSV file nyc_taxi_2019-01.csv into a data frame using only the columns passenger_count, trip_distance, and total_amount.\n",
        "2. Using a descending sort, find the average cost of the 20 longest (in distance) taxi rides in January 2019.\n",
        "3. Using an ascending sort, find the average cost of the 20 longest (in distance) taxi rides in January 2019. Are the results any different?\n",
        "4. Sort by ascending passenger count and descending trip distance. (So, start with the longest trip with 0 passengers and end with the shortest trip with 9 passengers.) What is the average price paid for the top 50 rides?\n"
      ]
    },
    {
      "cell_type": "code",
      "execution_count": null,
      "metadata": {
        "colab": {
          "base_uri": "https://localhost:8080/"
        },
        "id": "1GsPjdRAR661",
        "outputId": "a9bb6e71-d18f-45e1-cfba-fab22dc365fd"
      },
      "outputs": [
        {
          "output_type": "stream",
          "name": "stdout",
          "text": [
            "Average cost (descending, ascending): (15.68, 15.68)\n",
            "Average price for top 50 rides: 87.79\n"
          ]
        }
      ],
      "source": [
        "# filename = 'nyc_taxidataset.csv'\n",
        "filename='https://raw.githubusercontent.com/emharsha1812/CCE_Assignment/main/dataset/nyc_taxidataset.csv'\n",
        "df = pd.read_csv(filename,usecols=['passenger_count','trip_distance',\n",
        "'total_amount'],\n",
        "dtype={'total_amount':np.float128})\n",
        "\n",
        "\n",
        "# Task 1.2.2 & Task 1.2.3\n",
        "def get_average_cost_descending_sort(df):\n",
        "    \"\"\"Arguments- df:Dataframe\n",
        "\n",
        "    Returns\n",
        "    tuple of float - (avg_desc,avg_asc) : (rounded of two integers)\n",
        "    \"\"\"\n",
        "\n",
        "    # Sort the dataframe by 'total_amount' in descending and ascending order\n",
        "    df_desc = df.sort_values(by='total_amount', ascending=False)\n",
        "    df_asc = df.sort_values(by='total_amount', ascending=True)\n",
        "\n",
        "    # Calculate the average 'total_amount' for both sorted dataframes\n",
        "    avg_desc = df_desc['total_amount'].mean()\n",
        "    avg_asc = df_asc['total_amount'].mean()\n",
        "\n",
        "    # Round the averages to two decimal places\n",
        "    return (round(avg_desc, 2), round(avg_asc, 2))\n",
        "\n",
        "def get_price_top50_rides(df):\n",
        "    \"\"\"Arguments df:Dataframe\n",
        "    Returns\n",
        "    float - rounded to two integers\n",
        "    \"\"\"\n",
        "    # Sort the dataframe by 'total_amount' in descending order and select top 50 rides\n",
        "    top_50_rides = df.sort_values(by='total_amount', ascending=False).head(50)\n",
        "\n",
        "    # Calculate the average 'total_amount' for these top 50 rides\n",
        "    avg_price_rides = top_50_rides['total_amount'].mean()\n",
        "\n",
        "    # Return the rounded average to two decimal places\n",
        "    return round(avg_price_rides, 2)\n",
        "\n",
        "\n",
        "get_average_cost_ans=get_average_cost_descending_sort(df)\n",
        "get_avg_price_top50_ans=get_price_top50_rides(df)\n",
        "\n",
        "# Print results\n",
        "print(f\"Average cost (descending, ascending): {get_average_cost_ans}\")\n",
        "print(f\"Average price for top 50 rides: {get_avg_price_top50_ans}\")"
      ]
    },
    {
      "cell_type": "markdown",
      "metadata": {
        "id": "MQnUzl2yR661"
      },
      "source": [
        "#### Task 1.3 - The goal of this exercise is to group the data according to the below conditions\n",
        "1. Load taxi data from January 2019 into a data frame using only the columns passenger_count, trip_distance, and total_amount.\n",
        "2. For each number of passengers, find the mean cost of a taxi ride. Sort this result from lowest (i.e., cheapest) to highest (i.e., most expensive). Return the topmost value (use .head(1))\n",
        "Sort the results again by increasing the number of passengers. Return the topmost value (use .head(1))\n",
        "3. Create a new column, trip_distance_group, in which the values are short (< 2\n",
        "miles), medium (>= 2 miles and <= 10 miles), and long (> 10 miles). What is the\n",
        "average number of passengers per trip length category? Sort this result from\n",
        "highest (most passengers) to lowest (fewest passengers)."
      ]
    },
    {
      "cell_type": "code",
      "execution_count": null,
      "metadata": {
        "colab": {
          "base_uri": "https://localhost:8080/"
        },
        "id": "Elo2X2LSR662",
        "outputId": "f39015ee-09ff-4b37-e116-7cbeb393fe58"
      },
      "outputs": [
        {
          "output_type": "stream",
          "name": "stdout",
          "text": [
            "Mean cost: 15.68\n",
            "Passenger count with the lowest average fare: 1\n",
            "Average passengers per trip length category:\n",
            "trip_length_category\n",
            "short     1.748960\n",
            "medium    1.778731\n",
            "long      1.809696\n",
            "Name: passenger_count, dtype: float64\n"
          ]
        },
        {
          "output_type": "stream",
          "name": "stderr",
          "text": [
            "<ipython-input-10-59a91bb2d399>:56: FutureWarning: The default of observed=False is deprecated and will be changed to True in a future version of pandas. Pass observed=False to retain current behavior or observed=True to adopt the future default and silence this warning.\n",
            "  avg_passengers_by_trip_length = df.groupby('trip_length_category')['passenger_count'].mean()\n"
          ]
        }
      ],
      "source": [
        "filename='https://raw.githubusercontent.com/emharsha1812/CCE_Assignment/main/dataset/nyc_taxidataset.csv'\n",
        "df = pd.read_csv(filename,usecols=['passenger_count','trip_distance','total_amount'])\n",
        "\n",
        "def get_mean_cost(df):\n",
        "    \"\"\"Parameters\n",
        "    df - Dataframe\n",
        "\n",
        "    Returns\n",
        "    mean_cost : int\"\"\"\n",
        "    #Write your code below\n",
        "    # Compute the mean of the total_amount column\n",
        "    mean_cost = df['total_amount'].mean()\n",
        "\n",
        "    return round(mean_cost, 2)\n",
        "\n",
        "\n",
        "def get_lowest_average_fare(df):\n",
        "    \"\"\"\n",
        "    Find the passenger count with the lowest average total fare.\n",
        "\n",
        "    Args:\n",
        "    df (pandas.DataFrame): A DataFrame containing 'passenger_count' and 'total_amount' columns.\n",
        "\n",
        "    Returns:\n",
        "    pandas.Series: A Series with one row, containing the passenger count with the lowest average fare.\n",
        "    \"\"\"\n",
        "\n",
        "    # Group by passenger count and compute the average fare for each passenger count\n",
        "    avg_fare_by_passenger = df.groupby('passenger_count')['total_amount'].mean()\n",
        "\n",
        "    # Find the passenger count with the lowest average fare\n",
        "    lowest_avg_fare = avg_fare_by_passenger.idxmin()\n",
        "\n",
        "    return lowest_avg_fare\n",
        "    pass\n",
        "\n",
        "\n",
        "def get_trip_length_category(df):\n",
        "    \"\"\"\n",
        "    Find the average number of passengers per trip length category\n",
        "\n",
        "    Args:\n",
        "    df (pandas.DataFrame): A DataFrame containing 'passenger_count' and 'total_amount' columns.\n",
        "\n",
        "    Returns:\n",
        "    pandas.Series: A Series with three rows. displaying values of trip distance (short, medium, long).\n",
        "    \"\"\"\n",
        "    # Define bins for trip length categories (short, medium, long)\n",
        "    bins = [0, 2, 5, np.inf]\n",
        "    labels = ['short', 'medium', 'long']\n",
        "\n",
        "    # Assign trip length categories based on trip distance\n",
        "    df['trip_length_category'] = pd.cut(df['trip_distance'], bins=bins, labels=labels)\n",
        "\n",
        "    # Calculate the average number of passengers for each trip length category\n",
        "    avg_passengers_by_trip_length = df.groupby('trip_length_category')['passenger_count'].mean()\n",
        "\n",
        "    return avg_passengers_by_trip_length\n",
        "    pass\n",
        "\n",
        "mean_cost_ans=get_mean_cost(df)\n",
        "lowest_average_fare_ans=get_lowest_average_fare(df)\n",
        "trip_length_category_ans=get_trip_length_category(df)\n",
        "\n",
        "# Print results\n",
        "print(f\"Mean cost: {mean_cost_ans}\")\n",
        "print(f\"Passenger count with the lowest average fare: {lowest_average_fare_ans}\")\n",
        "print(f\"Average passengers per trip length category:\\n{trip_length_category_ans}\")\n"
      ]
    }
  ],
  "metadata": {
    "kernelspec": {
      "display_name": "Python 3",
      "language": "python",
      "name": "python3"
    },
    "language_info": {
      "codemirror_mode": {
        "name": "ipython",
        "version": 3
      },
      "file_extension": ".py",
      "mimetype": "text/x-python",
      "name": "python",
      "nbconvert_exporter": "python",
      "pygments_lexer": "ipython3",
      "version": "3.10.12"
    },
    "colab": {
      "provenance": [],
      "include_colab_link": true
    }
  },
  "nbformat": 4,
  "nbformat_minor": 0
}